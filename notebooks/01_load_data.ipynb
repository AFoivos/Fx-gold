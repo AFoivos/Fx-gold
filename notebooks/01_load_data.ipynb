{
 "cells": [
  {
   "cell_type": "code",
   "execution_count": 2,
   "id": "b5cfa1cf-4100-4f09-b91a-cd8a1811ce27",
   "metadata": {},
   "outputs": [
    {
     "name": "stdout",
     "output_type": "stream",
     "text": [
      "\n",
      "1h Data\n",
      "<class 'pandas.core.frame.DataFrame'>\n",
      "DatetimeIndex: 122028 entries, 2004-06-11 07:00:00 to 2025-06-06 06:00:00\n",
      "Data columns (total 5 columns):\n",
      " #   Column  Non-Null Count   Dtype  \n",
      "---  ------  --------------   -----  \n",
      " 0   Open    122028 non-null  float64\n",
      " 1   High    122028 non-null  float64\n",
      " 2   Low     122028 non-null  float64\n",
      " 3   Close   122028 non-null  float64\n",
      " 4   Volume  122028 non-null  int64  \n",
      "dtypes: float64(4), int64(1)\n",
      "memory usage: 5.6 MB\n",
      "None\n",
      "                      Open   High    Low  Close  Volume\n",
      "Date                                                   \n",
      "2004-06-11 07:00:00  384.0  384.3  383.3  383.8      44\n",
      "2004-06-11 08:00:00  383.8  384.3  383.1  383.1      41\n",
      "2004-06-11 09:00:00  383.1  384.1  382.8  383.1      55\n",
      "2004-06-11 10:00:00  383.0  383.8  383.0  383.6      33\n",
      "2004-06-11 11:00:00  383.6  383.8  383.5  383.6      23\n",
      "\n",
      "1d Data \n",
      "<class 'pandas.core.frame.DataFrame'>\n",
      "DatetimeIndex: 5391 entries, 2004-06-11 to 2025-06-06\n",
      "Data columns (total 5 columns):\n",
      " #   Column  Non-Null Count  Dtype  \n",
      "---  ------  --------------  -----  \n",
      " 0   Open    5391 non-null   float64\n",
      " 1   High    5391 non-null   float64\n",
      " 2   Low     5391 non-null   float64\n",
      " 3   Close   5391 non-null   float64\n",
      " 4   Volume  5391 non-null   int64  \n",
      "dtypes: float64(4), int64(1)\n",
      "memory usage: 252.7 KB\n",
      "None\n",
      "             Open   High    Low  Close  Volume\n",
      "Date                                          \n",
      "2004-06-11  384.0  384.8  382.8  384.1     272\n",
      "2004-06-14  384.3  385.8  381.8  382.8    1902\n",
      "2004-06-15  382.8  388.8  381.1  388.6    1951\n",
      "2004-06-16  387.1  389.8  382.6  383.8    2014\n",
      "2004-06-17  383.6  389.3  383.0  387.6    1568\n"
     ]
    }
   ],
   "source": [
    "import pandas as pd\n",
    "\n",
    "\n",
    "file_1h = '../data/XAU_1h_data.csv'\n",
    "file_1d = '../data/XAU_1d_data.csv'\n",
    "\n",
    "df_1h = pd.read_csv(file_1h)\n",
    "df_1d = pd.read_csv(file_1d)\n",
    "\n",
    "\n",
    "df_1h = pd.read_csv(file_1h, sep=';')\n",
    "df_1d = pd.read_csv(file_1d, sep=';')\n",
    "\n",
    "\n",
    "df_1h['Date'] = pd.to_datetime(df_1h['Date'], format=\"%Y.%m.%d %H:%M\")\n",
    "df_1d['Date'] = pd.to_datetime(df_1d['Date'], format=\"%Y.%m.%d %H:%M\")\n",
    "\n",
    "\n",
    "df_1h.set_index('Date', inplace=True)\n",
    "df_1d.set_index('Date', inplace=True)\n",
    "\n",
    "\n",
    "print(\"\\n1h Data\")\n",
    "print(df_1h.info())\n",
    "print(df_1h.head())\n",
    "\n",
    "print(\"\\n1d Data \")\n",
    "print(df_1d.info())\n",
    "print(df_1d.head())\n"
   ]
  }
 ],
 "metadata": {
  "kernelspec": {
   "display_name": "Python (dpenv)",
   "language": "python",
   "name": "dpenv"
  },
  "language_info": {
   "codemirror_mode": {
    "name": "ipython",
    "version": 3
   },
   "file_extension": ".py",
   "mimetype": "text/x-python",
   "name": "python",
   "nbconvert_exporter": "python",
   "pygments_lexer": "ipython3",
   "version": "3.10.13"
  }
 },
 "nbformat": 4,
 "nbformat_minor": 5
}
